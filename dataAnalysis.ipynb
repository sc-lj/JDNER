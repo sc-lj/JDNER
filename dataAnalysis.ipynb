{
 "cells": [
  {
   "cell_type": "code",
   "execution_count": 1,
   "metadata": {},
   "outputs": [],
   "source": [
    "import json\n",
    "from collections import defaultdict\n",
    "with open(\"data/train_500.txt\", 'r') as f:\n",
    "    lines = f.readlines()\n",
    "\n",
    "entities = defaultdict(list)\n",
    "samples = []\n",
    "sample = []\n",
    "texts = []\n",
    "special_char = \"<SPACE>\"\n",
    "text_entity_pair = []\n",
    "entity_txt = ''\n",
    "entity_name = ''\n",
    "single_pair = defaultdict(list)\n",
    "for i, line in enumerate(lines):\n",
    "    line = line.strip()\n",
    "    if len(line) == 0:\n",
    "        if len(sample):\n",
    "            samples.append(sample)\n",
    "            text = \"\".join([t.split(\"\\t\")[0] for t in sample])\n",
    "            text = text.replace(special_char, \" \")\n",
    "            texts.append(text)\n",
    "            if entity_name:\n",
    "                entities[entity_name].append(\"\".join(entity_txt))\n",
    "                single_pair[entity_name].append(\"\".join(entity_txt))\n",
    "            text_entity_pair.append(\n",
    "                {\"text\": text, \"entities\": single_pair, \"sample\": sample})\n",
    "\n",
    "        entity_txt = ''\n",
    "        entity_name = \"\"\n",
    "        single_pair = defaultdict(list)\n",
    "        sample = []\n",
    "        continue\n",
    "    line = line.split(\" \")\n",
    "\n",
    "    if len(line) == 2:\n",
    "        txt, tag = line\n",
    "        sample.append(\"\\t\".join(line))\n",
    "    elif len(line) == 1:\n",
    "        tag = line[0]\n",
    "        txt = \" \"\n",
    "        sample.append(\"\\t\".join((special_char, line[0])))\n",
    "    else:\n",
    "        print(line)\n",
    "    if tag == \"O\":\n",
    "        if entity_name:\n",
    "            entities[entity_name].append(\"\".join(entity_txt))\n",
    "            single_pair[entity_name].append(\"\".join(entity_txt))\n",
    "        entity_txt = ''\n",
    "        entity_name = \"\"\n",
    "    elif tag.startswith(\"B\"):\n",
    "        if entity_name:\n",
    "            entities[entity_name].append(\"\".join(entity_txt))\n",
    "            single_pair[entity_name].append(\"\".join(entity_txt))\n",
    "        entity_txt = ''\n",
    "        entity_txt += txt\n",
    "        entity_name = tag.split(\"-\")[-1]\n",
    "    else:\n",
    "        entity_txt += txt\n",
    "        # entity_name = tag.split(\"-\")[-1]\n",
    "\n",
    "if len(sample):\n",
    "    text = \"\".join([t.split(\"\\t\")[0] for t in sample])\n",
    "    text = text.replace(special_char, \" \")\n",
    "    texts.append(text)\n",
    "    samples.append(sample)\n",
    "    if entity_name:\n",
    "        entities[entity_name].append(\"\".join(entity_txt))\n",
    "        single_pair[entity_name].append(\"\".join(entity_txt))\n",
    "    text_entity_pair.append(\n",
    "        {\"text\": text, \"entities\": single_pair, \"sample\": sample})\n",
    "\n"
   ]
  },
  {
   "cell_type": "code",
   "execution_count": 5,
   "metadata": {},
   "outputs": [
    {
     "data": {
      "text/plain": [
       "dict_keys(['40', '4', '14', '5', '7', '11', '13', '8', '16', '29', '9', '12', '18', '1', '3', '22', '37', '39', '10', '36', '34', '31', '38', '54', '6', '30', '15', '2', '49', '21', '47', '23', '20', '50', '46', '41', '43', '48', '19', '52'])"
      ]
     },
     "execution_count": 5,
     "metadata": {},
     "output_type": "execute_result"
    }
   ],
   "source": [
    "entities.keys()"
   ]
  },
  {
   "cell_type": "code",
   "execution_count": 4,
   "metadata": {},
   "outputs": [
    {
     "data": {
      "text/plain": [
       "[['。']]"
      ]
     },
     "execution_count": 4,
     "metadata": {},
     "output_type": "execute_result"
    }
   ],
   "source": [
    "from pypinyin import pinyin,Style\n",
    "\n",
    "word = \"中\"\n",
    "pinyin(word,style=Style.TONE3,heteronym=True)"
   ]
  },
  {
   "cell_type": "code",
   "execution_count": 5,
   "metadata": {},
   "outputs": [
    {
     "ename": "TypeError",
     "evalue": "can only concatenate list (not \"str\") to list",
     "output_type": "error",
     "traceback": [
      "\u001b[0;31m---------------------------------------------------------------------------\u001b[0m",
      "\u001b[0;31mTypeError\u001b[0m                                 Traceback (most recent call last)",
      "\u001b[0;32m/tmp/ipykernel_2444340/119580275.py\u001b[0m in \u001b[0;36m<module>\u001b[0;34m\u001b[0m\n\u001b[0;32m----> 1\u001b[0;31m \u001b[0msum\u001b[0m\u001b[0;34m(\u001b[0m\u001b[0;34m[\u001b[0m\u001b[0;34m\"ADAA\"\u001b[0m\u001b[0;34m,\u001b[0m\u001b[0;34m[\u001b[0m\u001b[0;34m\"A\"\u001b[0m\u001b[0;34m,\u001b[0m\u001b[0;34m\"B\"\u001b[0m\u001b[0;34m]\u001b[0m\u001b[0;34m]\u001b[0m\u001b[0;34m,\u001b[0m\u001b[0;34m[\u001b[0m\u001b[0;34m]\u001b[0m\u001b[0;34m)\u001b[0m\u001b[0;34m\u001b[0m\u001b[0;34m\u001b[0m\u001b[0m\n\u001b[0m",
      "\u001b[0;31mTypeError\u001b[0m: can only concatenate list (not \"str\") to list"
     ]
    }
   ],
   "source": [
    "sum([\"ADAA\",[\"A\",\"B\"]],[])"
   ]
  },
  {
   "cell_type": "code",
   "execution_count": null,
   "metadata": {},
   "outputs": [],
   "source": []
  }
 ],
 "metadata": {
  "interpreter": {
   "hash": "7f97b5404fb095f095ec6d82ad5ea760d3c89ebf48380ba446a09f5481b5cab8"
  },
  "kernelspec": {
   "display_name": "Python 3.7.10 ('python37')",
   "language": "python",
   "name": "python3"
  },
  "language_info": {
   "codemirror_mode": {
    "name": "ipython",
    "version": 3
   },
   "file_extension": ".py",
   "mimetype": "text/x-python",
   "name": "python",
   "nbconvert_exporter": "python",
   "pygments_lexer": "ipython3",
   "version": "3.7.0"
  },
  "orig_nbformat": 4
 },
 "nbformat": 4,
 "nbformat_minor": 2
}
